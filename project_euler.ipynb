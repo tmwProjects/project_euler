{
 "cells": [
  {
   "cell_type": "markdown",
   "id": "50fdd280-07ff-4fd0-8c67-da3b240b1976",
   "metadata": {},
   "source": [
    "# Solved Project Euler problems"
   ]
  },
  {
   "cell_type": "markdown",
   "id": "6927b7b7-b5ca-4631-8fa4-5c9dfa9639ed",
   "metadata": {},
   "source": [
    "<div style=\\\"text-align: justify; max-width: 850px\\\">\n",
    "\n",
    "### Problem 1\n",
    "    \n",
    "If we list all the natural numbers below $10$ that are multiples of $3$ or $5$, we get $3, 5, 6$ and $9$. The sum of these multiples is $23$.\n",
    "    \n",
    "Find the sum of all the multiples of $3$ or $5$ below $1000$.\n",
    "    \n",
    "</div>"
   ]
  },
  {
   "cell_type": "markdown",
   "id": "f67ea19f-509c-4614-b450-c3f41c3fa37a",
   "metadata": {},
   "source": [
    "<div style=\\\"text-align: justify; max-width: 850px\\\">\n",
    "\n",
    "### Explanation\n",
    "    \n",
    "**outcome = 0** initializes a variable outcome with the value **0**. This variable is used to store the sum of multiples of 3 or 5.\n",
    "\n",
    "**for i in range(1, 1000):** starts a loop that runs from 1 to 999 (since range(1, 1000) includes the numbers from 1 to 999). For each number i in this range, the following step is executed.\n",
    "\n",
    "**if i % 3 == 0 or i % 5 == 0:** checks whether the current number i is a multiple of 3 or a multiple of 5. This is achieved by dividing i by 3 or 5 and checking whether the remainder (%) is 0. If this condition is true (i.e. i is a multiple of 3 or 5), the next step is executed.\n",
    "\n",
    "**outcome += i** adds the current number **i** to the variable outcome if i is a multiple of 3 or 5. This line is only executed if the previous condition (if) is fulfilled.\n",
    "\n",
    "After the loop has run through all numbers from 1 to 999, the variable outcome contains the sum of all multiples of 3 or 5 under 1000.\n",
    "\n",
    "**print(outcome)** outputs the value of the variable outcome, i.e. the sum you are looking for.\n",
    "    \n",
    "</div>"
   ]
  },
  {
   "cell_type": "code",
   "execution_count": 2,
   "id": "d86648df-1cbe-49bd-a6f7-f0db66dbb82f",
   "metadata": {
    "tags": []
   },
   "outputs": [
    {
     "name": "stdout",
     "output_type": "stream",
     "text": [
      "233168\n"
     ]
    }
   ],
   "source": [
    "outcome = 0\n",
    "\n",
    "for i in range(1, 1000):\n",
    "    if i % 3 == 0 or i % 5 == 0:\n",
    "        outcome += i\n",
    "        \n",
    "print(outcome)        "
   ]
  }
 ],
 "metadata": {
  "kernelspec": {
   "display_name": "Python 3 (ipykernel)",
   "language": "python",
   "name": "python3"
  },
  "language_info": {
   "codemirror_mode": {
    "name": "ipython",
    "version": 3
   },
   "file_extension": ".py",
   "mimetype": "text/x-python",
   "name": "python",
   "nbconvert_exporter": "python",
   "pygments_lexer": "ipython3",
   "version": "3.11.7"
  }
 },
 "nbformat": 4,
 "nbformat_minor": 5
}
